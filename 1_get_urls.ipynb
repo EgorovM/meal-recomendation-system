{
 "cells": [
  {
   "cell_type": "code",
   "execution_count": 24,
   "metadata": {},
   "outputs": [],
   "source": [
    "import sys\n",
    "\n",
    "import requests\n",
    "import bs4\n",
    "\n",
    "from tqdm import tqdm as tq"
   ]
  },
  {
   "cell_type": "code",
   "execution_count": 2,
   "metadata": {},
   "outputs": [],
   "source": [
    "catalog_url = 'https://vkuso.ru/recipes/menu/uzhin/page/%d/'"
   ]
  },
  {
   "cell_type": "code",
   "execution_count": 19,
   "metadata": {},
   "outputs": [],
   "source": [
    "def get_soup_good(soup):\n",
    "    goods = []\n",
    "\n",
    "    for item in soup.find_all('div', {'class': 'views-item__line_content'}):\n",
    "        href = item.h3.a.get('href')\n",
    "        text = item.h3.a.text\n",
    "\n",
    "        goods.append((text, href))\n",
    "    \n",
    "    return goods\n",
    "\n",
    "def get_goods_from_page_vkusno(page):\n",
    "    url = catalog_url % page\n",
    "    \n",
    "    try:\n",
    "        r = requests.get(url)\n",
    "    except requests.ConnectionError:\n",
    "        return []\n",
    "    \n",
    "    soup = bs4.BeautifulSoup(r.content)\n",
    "    \n",
    "    return get_soup_good(soup)"
   ]
  },
  {
   "cell_type": "code",
   "execution_count": 32,
   "metadata": {},
   "outputs": [],
   "source": [
    "def get_goods_vkusno(count=371):\n",
    "    goods = []\n",
    "    \n",
    "    for page in tq(range(1, count+1)):\n",
    "        new_goods = get_goods_from_page_vkusno(page)\n",
    "        \n",
    "        if new_goods:\n",
    "            goods.extend(new_goods)\n",
    "        else:\n",
    "            print('fail!')\n",
    "            break\n",
    "        \n",
    "    return goods\n",
    "            "
   ]
  },
  {
   "cell_type": "code",
   "execution_count": 35,
   "metadata": {},
   "outputs": [
    {
     "name": "stderr",
     "output_type": "stream",
     "text": [
      "100%|██████████| 371/371 [04:25<00:00,  1.40it/s]\n"
     ]
    }
   ],
   "source": [
    "goods = get_goods_vkusno(371)"
   ]
  },
  {
   "cell_type": "code",
   "execution_count": 37,
   "metadata": {},
   "outputs": [],
   "source": [
    "import pandas as pd"
   ]
  },
  {
   "cell_type": "code",
   "execution_count": 40,
   "metadata": {},
   "outputs": [],
   "source": [
    "df = pd.DataFrame(goods)\n",
    "df.columns = ['title', 'url']"
   ]
  },
  {
   "cell_type": "code",
   "execution_count": 42,
   "metadata": {},
   "outputs": [],
   "source": [
    "df.to_csv('goods_vkusno.csv', sep='\\t', index=False)"
   ]
  }
 ],
 "metadata": {
  "kernelspec": {
   "display_name": "cs102",
   "language": "python",
   "name": "cs102"
  },
  "language_info": {
   "codemirror_mode": {
    "name": "ipython",
    "version": 3
   },
   "file_extension": ".py",
   "mimetype": "text/x-python",
   "name": "python",
   "nbconvert_exporter": "python",
   "pygments_lexer": "ipython3",
   "version": "3.8.3"
  }
 },
 "nbformat": 4,
 "nbformat_minor": 4
}
