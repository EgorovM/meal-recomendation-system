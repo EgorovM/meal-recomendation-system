{
 "cells": [
  {
   "cell_type": "code",
   "execution_count": 1,
   "metadata": {},
   "outputs": [],
   "source": [
    "import requests\n",
    "import bs4"
   ]
  },
  {
   "cell_type": "markdown",
   "metadata": {},
   "source": [
    "## Достать один рецепт"
   ]
  },
  {
   "cell_type": "code",
   "execution_count": 195,
   "metadata": {},
   "outputs": [],
   "source": [
    "url = 'https://vkuso.ru/recipe/myaso-garmoshka-s-pomidorami-v-duxovke/'\n",
    "r = requests.get(url)"
   ]
  },
  {
   "cell_type": "code",
   "execution_count": 196,
   "metadata": {},
   "outputs": [],
   "source": [
    "soup = bs4.BeautifulSoup(r.content)"
   ]
  },
  {
   "cell_type": "markdown",
   "metadata": {},
   "source": [
    "### Изображение"
   ]
  },
  {
   "cell_type": "code",
   "execution_count": 197,
   "metadata": {},
   "outputs": [],
   "source": [
    "def get_image_url(soup):\n",
    "    img_url = soup.find('img', 'photo').get('src')\n",
    "    \n",
    "    return img_url"
   ]
  },
  {
   "cell_type": "code",
   "execution_count": 198,
   "metadata": {},
   "outputs": [
    {
     "data": {
      "text/plain": [
       "'//st.vkuso.ru/data/cache/thumb/d4/9e8a677a87a26d4_660x440.jpeg'"
      ]
     },
     "execution_count": 198,
     "metadata": {},
     "output_type": "execute_result"
    }
   ],
   "source": [
    "get_image_url(soup)"
   ]
  },
  {
   "cell_type": "markdown",
   "metadata": {},
   "source": [
    "### Информация о готовке"
   ]
  },
  {
   "cell_type": "code",
   "execution_count": 199,
   "metadata": {},
   "outputs": [],
   "source": [
    "def get_recipe_information(soup):\n",
    "    item = soup.find('div', {'class': 'recipe_information'}).find_all('div')\n",
    "    \n",
    "    labels = {}\n",
    "    \n",
    "    for div in item:\n",
    "        span = div.span\n",
    "\n",
    "        if span:\n",
    "            labels[div.get('class')[0]] = span.text\n",
    "            \n",
    "    return labels"
   ]
  },
  {
   "cell_type": "code",
   "execution_count": 200,
   "metadata": {},
   "outputs": [
    {
     "data": {
      "text/plain": [
       "{'recipe-difficulty': 'средняя',\n",
       " 'recipe_info__cook_time': 'PT1H20M',\n",
       " 'recipe_info__value': 'PT10H',\n",
       " 'recipe_info__prep_time': 'PT10H',\n",
       " 'recipe-cuisine': 'Домашняя кухня'}"
      ]
     },
     "execution_count": 200,
     "metadata": {},
     "output_type": "execute_result"
    }
   ],
   "source": [
    "get_recipe_information(soup)"
   ]
  },
  {
   "cell_type": "markdown",
   "metadata": {},
   "source": [
    "### Ингридиенты"
   ]
  },
  {
   "cell_type": "code",
   "execution_count": 201,
   "metadata": {},
   "outputs": [],
   "source": [
    "def get_recipe_ingr(soup):\n",
    "    ingrs = []\n",
    "    \n",
    "    for item in soup.find('div', {'class': 'recipe-ingr'}).find_all('li'):\n",
    "        ingr = {}\n",
    "        \n",
    "        ingr_span = list(filter(lambda x: x.has_attr('class'), item.find_all('span')))\n",
    "        \n",
    "        for ingr_item in ingr_span:\n",
    "            ingr[ingr_item.get('class')[0]] = ingr_item.text\n",
    "        \n",
    "        ingrs.append(ingr)\n",
    "    return ingrs"
   ]
  },
  {
   "cell_type": "code",
   "execution_count": 202,
   "metadata": {},
   "outputs": [
    {
     "data": {
      "text/plain": [
       "[{'name': 'свиная вырезка/говяжья вырезка', 'value': '1', 'type': 'кг'},\n",
       " {'name': 'сыр твердый', 'value': '200', 'type': 'г'},\n",
       " {'name': 'помидоры', 'value': '2', 'type': 'шт.'},\n",
       " {'name': 'чеснок', 'value': '3', 'type': 'зубчика'},\n",
       " {'name': 'соус соевый', 'value': '2-3', 'type': 'ст.л.'},\n",
       " {'name': 'масло оливковое/растительное', 'value': '2', 'type': 'ст.л.'},\n",
       " {'name': 'лимонный сок', 'value': '1', 'type': 'ст.л.'},\n",
       " {'name': 'горчица', 'value': '1', 'type': 'ст.л.'}]"
      ]
     },
     "execution_count": 202,
     "metadata": {},
     "output_type": "execute_result"
    }
   ],
   "source": [
    "get_recipe_ingr(soup)"
   ]
  },
  {
   "cell_type": "markdown",
   "metadata": {},
   "source": [
    "### Приготовление"
   ]
  },
  {
   "cell_type": "code",
   "execution_count": 203,
   "metadata": {},
   "outputs": [],
   "source": [
    "def get_recipe_steps(soup):\n",
    "    steps = []\n",
    "    \n",
    "    steps_soup = soup.find('div', {'class': 'recipe-steps'}).find_all('li')\n",
    "    \n",
    "    for step in steps_soup:\n",
    "        steps.append(step.text)\n",
    "        \n",
    "    return steps"
   ]
  },
  {
   "cell_type": "code",
   "execution_count": 204,
   "metadata": {},
   "outputs": [
    {
     "data": {
      "text/plain": [
       "['Взять ровный, плотный кусочек мяса прямоугольной формы. Сделать на мясе поперек надрезы, не дорезая до конца. Соединить ингредиенты для маринада, намазать со всех сторон мясо, в том числе в надрезах, посыпать перцем, солью. Отставить мясо часов на десять, чтобы оно замариновалось.',\n",
       " 'Порезать сыр на ломтики, помидоры на кольца, чесночок измельчить. В надрезы положить помидор, чеснок и сыр. Можно положить ломтики грибов. Завернуть мясо в фольгу, положить на противень, отправить мясо в духовку на 1 час, соблюдать температуру 190 градусов. Положить мясо «Гармошка» на тарелку, украсить зеленью.']"
      ]
     },
     "execution_count": 204,
     "metadata": {},
     "output_type": "execute_result"
    }
   ],
   "source": [
    "get_recipe_steps(soup)"
   ]
  },
  {
   "cell_type": "markdown",
   "metadata": {},
   "source": [
    "### Рецепт"
   ]
  },
  {
   "cell_type": "code",
   "execution_count": 82,
   "metadata": {},
   "outputs": [],
   "source": [
    "from collections import namedtuple"
   ]
  },
  {
   "cell_type": "code",
   "execution_count": 123,
   "metadata": {},
   "outputs": [],
   "source": [
    "Recipe = namedtuple('Recipe', ['image_url', 'information', 'ingrs', 'steps'])"
   ]
  },
  {
   "cell_type": "code",
   "execution_count": 136,
   "metadata": {},
   "outputs": [],
   "source": [
    "def get_recipe(url):\n",
    "    try:\n",
    "        r = requests.get(url)\n",
    "    except requests.HTTPError:\n",
    "        return \n",
    "    \n",
    "    soup = bs4.BeautifulSoup(r.content)\n",
    "    \n",
    "    recipe_image       = get_image_url(soup)\n",
    "    recipe_information = get_recipe_information(soup)\n",
    "    recipe_ingrs       = get_recipe_ingr(soup)\n",
    "    recipe_steps       = get_recipe_steps(soup)\n",
    "    \n",
    "    recipe = Recipe(recipe_image, recipe_information, recipe_ingrs, recipe_steps)\n",
    "    \n",
    "    return recipe"
   ]
  },
  {
   "cell_type": "markdown",
   "metadata": {},
   "source": [
    "## Парсинг всех рецептов"
   ]
  },
  {
   "cell_type": "code",
   "execution_count": 137,
   "metadata": {},
   "outputs": [],
   "source": [
    "import pandas as pd\n",
    "from tqdm import tqdm as tq"
   ]
  },
  {
   "cell_type": "code",
   "execution_count": 138,
   "metadata": {},
   "outputs": [],
   "source": [
    "df = pd.read_csv('goods_vkusno.csv', sep='\\t')"
   ]
  },
  {
   "cell_type": "code",
   "execution_count": 229,
   "metadata": {},
   "outputs": [],
   "source": [
    "def get_recipes(count=2, offset=0):\n",
    "    def print_fail():\n",
    "        print('fail!', row.name, title, url)\n",
    "        \n",
    "    recipes = []\n",
    "\n",
    "    for i in tq(range(count-offset)):\n",
    "        row = df.iloc[i + offset]\n",
    "    \n",
    "        title, url = row\n",
    "        \n",
    "        try:\n",
    "            recipe = get_recipe(url)\n",
    "        except KeyboardInterrupt:\n",
    "            break\n",
    "        except:\n",
    "            print_fail()\n",
    "            continue\n",
    "            \n",
    "        if recipe:\n",
    "            recipes.append(recipe)\n",
    "        else:\n",
    "            print_fail()\n",
    "            break\n",
    "            \n",
    "    return recipes"
   ]
  },
  {
   "cell_type": "code",
   "execution_count": 233,
   "metadata": {},
   "outputs": [
    {
     "name": "stderr",
     "output_type": "stream",
     "text": [
      " 53%|█████▎    | 2995/5666 [24:13<21:19,  2.09it/s]  "
     ]
    },
    {
     "name": "stdout",
     "output_type": "stream",
     "text": [
      "fail! 4006 Салат из курицы с виноградом https://vkuso.ru/recipe/salat-iz-kuricy-s-vinogradom/\n"
     ]
    },
    {
     "name": "stderr",
     "output_type": "stream",
     "text": [
      "100%|██████████| 5666/5666 [46:35<00:00,  2.03it/s]\n"
     ]
    }
   ],
   "source": [
    "recipes = get_recipes(df.shape[0], 1012)"
   ]
  },
  {
   "cell_type": "code",
   "execution_count": 234,
   "metadata": {},
   "outputs": [],
   "source": [
    "recipes_dictionaries = []\n",
    "\n",
    "for title, recipe in zip(df['title'], recipes):\n",
    "    recipe_dict = recipe._asdict()\n",
    "    recipe_dict['title'] = title\n",
    "    \n",
    "    recipes_dictionaries.append(recipe_dict) "
   ]
  },
  {
   "cell_type": "code",
   "execution_count": 235,
   "metadata": {},
   "outputs": [
    {
     "data": {
      "text/plain": [
       "5665"
      ]
     },
     "execution_count": 235,
     "metadata": {},
     "output_type": "execute_result"
    }
   ],
   "source": [
    "len(recipes_dictionaries)"
   ]
  },
  {
   "cell_type": "code",
   "execution_count": 239,
   "metadata": {},
   "outputs": [],
   "source": [
    "with open('1012_recipes.txt', 'r') as f:\n",
    "    first_recipes = eval(f.read())"
   ]
  },
  {
   "cell_type": "code",
   "execution_count": 241,
   "metadata": {},
   "outputs": [],
   "source": [
    "first_recipes.extend(recipes_dictionaries)"
   ]
  },
  {
   "cell_type": "code",
   "execution_count": 243,
   "metadata": {},
   "outputs": [
    {
     "data": {
      "text/plain": [
       "6677"
      ]
     },
     "execution_count": 243,
     "metadata": {},
     "output_type": "execute_result"
    }
   ],
   "source": [
    "len(first_recipes)"
   ]
  },
  {
   "cell_type": "code",
   "execution_count": 244,
   "metadata": {},
   "outputs": [],
   "source": [
    "with open('recipes.txt', 'w') as f:\n",
    "    f.write(str(first_recipes))"
   ]
  },
  {
   "cell_type": "code",
   "execution_count": null,
   "metadata": {},
   "outputs": [],
   "source": []
  }
 ],
 "metadata": {
  "kernelspec": {
   "display_name": "cs102",
   "language": "python",
   "name": "cs102"
  },
  "language_info": {
   "codemirror_mode": {
    "name": "ipython",
    "version": 3
   },
   "file_extension": ".py",
   "mimetype": "text/x-python",
   "name": "python",
   "nbconvert_exporter": "python",
   "pygments_lexer": "ipython3",
   "version": "3.8.3"
  }
 },
 "nbformat": 4,
 "nbformat_minor": 4
}
